{
 "cells": [
  {
   "cell_type": "markdown",
   "metadata": {
    "slideshow": {
     "slide_type": "slide"
    }
   },
   "source": [
    "<div align=\"center\"><font size='20'><b>머신러닝 소개</b></font></div>\n",
    "\n",
    "<br>\n",
    "<br>\n",
    "\n",
    "<div align=\"center\">한경대학교 컴퓨터응용수학부</div>\n",
    "\n",
    "<div align=\"center\">이계식</div>"
   ]
  },
  {
   "cell_type": "markdown",
   "metadata": {
    "slideshow": {
     "slide_type": "slide"
    }
   },
   "source": [
    "## 머신러닝이란?"
   ]
  },
  {
   "cell_type": "markdown",
   "metadata": {
    "slideshow": {
     "slide_type": "slide"
    }
   },
   "source": [
    "### 데이터 과학, 인공지능, 머신러닝, 딥러닝"
   ]
  },
  {
   "cell_type": "markdown",
   "metadata": {
    "slideshow": {
     "slide_type": ""
    }
   },
   "source": [
    "<div align=\"center\"><img src=\"./images/ai-ml-relation.png\" style=\"width:700px;\"></div>"
   ]
  },
  {
   "cell_type": "markdown",
   "metadata": {
    "slideshow": {
     "slide_type": "slide"
    }
   },
   "source": [
    "* 데이터 과학: 주어진 데이터로부터 수학과 통계 지식을 활용하여 필요한 정보를 추출하는 학문 분야\n",
    "* 인공지능: 사고(thinking), 학습(learning) 등 인간의 지적능력을 컴퓨터를 통해 구현하는 \n",
    "    기술 또는 해당 연구 분야\n",
    "* 머신러닝: 컴퓨터가 데이터로부터 스스로 정보를 추출하는 기법 또는 해당 연구 분야.\n",
    "* 딥러닝: 심층 신경망 이론을 기반으로 복잡한 비선형 문제를 해결하는 머신러닝 기법 \n",
    "    또는 해당 연구 분야    "
   ]
  },
  {
   "cell_type": "markdown",
   "metadata": {
    "slideshow": {
     "slide_type": "slide"
    }
   },
   "source": [
    "### 역사적 관점"
   ]
  },
  {
   "cell_type": "markdown",
   "metadata": {
    "slideshow": {
     "slide_type": ""
    }
   },
   "source": [
    "<div align=\"center\"><img src=\"./images/ai-ml-relation2.png\" style=\"width:700px;\"></div>"
   ]
  },
  {
   "cell_type": "markdown",
   "metadata": {
    "colab_type": "text",
    "id": "pRmg1s6N9ona",
    "slideshow": {
     "slide_type": "slide"
    }
   },
   "source": [
    "### 머신러닝 프로그램 예제"
   ]
  },
  {
   "cell_type": "markdown",
   "metadata": {
    "colab_type": "text",
    "id": "pRmg1s6N9ona",
    "slideshow": {
     "slide_type": ""
    }
   },
   "source": [
    "* 스팸 필터: 스팸(spam)과 스팸이 아닌 메일(ham)의 샘플을 이용하여 스팸 메일 구분법 학습        "
   ]
  },
  {
   "cell_type": "markdown",
   "metadata": {
    "colab_type": "text",
    "id": "pRmg1s6N9ona",
    "slideshow": {
     "slide_type": "slide"
    }
   },
   "source": [
    "### 전통적인 스팸 필터"
   ]
  },
  {
   "cell_type": "markdown",
   "metadata": {
    "colab_type": "text",
    "id": "pRmg1s6N9ona",
    "slideshow": {
     "slide_type": ""
    }
   },
   "source": [
    "* **특정 단어**가 들어가면 스팸 메일로 처리\n",
    "\n",
    "* 프로그램이 론칭된 후 새로운 스팸단어가 생겼을 때 소프트웨어는 이 단어를 자동으로 분류할 수 없음\n",
    "\n",
    "* 개발자가 새로운 규칙을 업데이트 시켜줘야 함\n",
    "\n",
    "* **새로운 규칙이 생겼을 때 사용자가 매번 업데이트를** 시켜줘야하기 때문에 유지 보수가 어려움"
   ]
  },
  {
   "cell_type": "markdown",
   "metadata": {
    "colab_type": "text",
    "id": "pRmg1s6N9ona",
    "slideshow": {
     "slide_type": "slide"
    }
   },
   "source": [
    "### 머신러닝 스팸 필터"
   ]
  },
  {
   "cell_type": "markdown",
   "metadata": {
    "colab_type": "text",
    "id": "pRmg1s6N9ona",
    "slideshow": {
     "slide_type": ""
    }
   },
   "source": [
    "* 사용자가 스팸으로 지정한 메일에 '4U', 'For U', 'Buy Drugs\" 등의 표현이 자주 등장하는 경우 \n",
    "    그런 표현을 자동으로 인식하고 메일을 스팸으로 분류하도록 프로그램 스스로 학습"
   ]
  },
  {
   "cell_type": "markdown",
   "metadata": {
    "colab_type": "text",
    "id": "pRmg1s6N9ona",
    "slideshow": {
     "slide_type": "slide"
    }
   },
   "source": [
    "<div align=\"center\"><img src=\"https://drek4537l1klr.cloudfront.net/chollet2/v-7/Figures/ch01-a-new-programming-paradigm.png\" width=\"700\"/></div>"
   ]
  },
  {
   "cell_type": "markdown",
   "metadata": {
    "slideshow": {
     "slide_type": "slide"
    }
   },
   "source": [
    "### 머신러닝 학습 자동화"
   ]
  },
  {
   "cell_type": "markdown",
   "metadata": {
    "slideshow": {
     "slide_type": ""
    }
   },
   "source": [
    "<div align=\"center\"><img src=\"images/ch01/homl01-03.png\" width=\"700\"/></div>"
   ]
  },
  {
   "cell_type": "markdown",
   "metadata": {
    "slideshow": {
     "slide_type": "slide"
    }
   },
   "source": [
    "### 머신러닝의 장점"
   ]
  },
  {
   "cell_type": "markdown",
   "metadata": {
    "slideshow": {
     "slide_type": ""
    }
   },
   "source": [
    "* 전통적인 방식으로는 해결 방법이 없는 너무 복잡한 문제 해결\n",
    "\n",
    "* 새로운 데이터에 쉽게 적응 가능한 시스템\n",
    "\n",
    "* 데이터 마이닝(data mining): 복잡한 문제와 대량의 데이터에서 통찰 얻기"
   ]
  },
  {
   "cell_type": "markdown",
   "metadata": {
    "colab_type": "text",
    "id": "pRmg1s6N9ona",
    "slideshow": {
     "slide_type": "slide"
    }
   },
   "source": [
    "### 적용 사례"
   ]
  },
  {
   "cell_type": "markdown",
   "metadata": {
    "colab_type": "text",
    "id": "pRmg1s6N9ona",
    "slideshow": {
     "slide_type": ""
    }
   },
   "source": [
    "* 이미지 분류 작업: 생산 라인에서 제품 이미지를 분석해 자동으로 분류\n",
    "\n",
    "* 시맨틱 분할 작업: 뇌를 스캔하여 종양 진단\n",
    "\n",
    "* 텍스트 분류(자연어 처리): 자동으로 뉴스 기사 분류\n",
    "\n",
    "* 텍스트 분류: 토론 포럼에서 부정적인 코멘트를 자동으로 구분\n",
    "\n",
    "* 텍스트 요약: 긴 문서를 자동으로 요약\n",
    "\n",
    "* 자연어 이해 : 챗봇(chatbot) 또는 개인 비서 만들기"
   ]
  },
  {
   "cell_type": "markdown",
   "metadata": {
    "colab_type": "text",
    "id": "pRmg1s6N9ona",
    "slideshow": {
     "slide_type": "slide"
    }
   },
   "source": [
    "* 회귀 분석: 회사의 내년도 수익을 예측하기\n",
    "\n",
    "* 음성 인식: 음성 명령에 반응하는 앱\n",
    "\n",
    "* 이상치 탐지: 신용 카드 부정 거래 감지\n",
    "\n",
    "* 군집 작업: 구매 이력을 기반 고객 분류 후 다른 마케팅 전략 계획\n",
    "\n",
    "* 데이터 시각화: 고차원의 복잡한 데이터셋을 그래프로 효율적 표현\n",
    "\n",
    "* 추천 시스템: 과거 구매 이력 관심 상품 추천\n",
    "\n",
    "* 강화 학습: 지능형 게임 봇(bot) 만들기"
   ]
  },
  {
   "cell_type": "markdown",
   "metadata": {
    "colab_type": "text",
    "id": "NuA531GRDIUB",
    "slideshow": {
     "slide_type": "slide"
    }
   },
   "source": [
    "## 머신러닝 시스템 종류"
   ]
  },
  {
   "cell_type": "markdown",
   "metadata": {
    "colab_type": "text",
    "id": "NuA531GRDIUB",
    "slideshow": {
     "slide_type": "slide"
    }
   },
   "source": [
    "### 지도 학습"
   ]
  },
  {
   "cell_type": "markdown",
   "metadata": {
    "colab_type": "text",
    "id": "NuA531GRDIUB",
    "slideshow": {
     "slide_type": ""
    }
   },
   "source": [
    "* 훈련 데이터에 __레이블(label)__이라는 답 포함"
   ]
  },
  {
   "cell_type": "markdown",
   "metadata": {
    "slideshow": {
     "slide_type": ""
    }
   },
   "source": [
    "* 대표적 지도 학습\n",
    "    * 분류\n",
    "    * 회귀"
   ]
  },
  {
   "cell_type": "markdown",
   "metadata": {
    "slideshow": {
     "slide_type": "slide"
    }
   },
   "source": [
    "### 분류"
   ]
  },
  {
   "cell_type": "markdown",
   "metadata": {
    "slideshow": {
     "slide_type": ""
    }
   },
   "source": [
    "* 예제: 스팸 필터\n",
    "    * 특성: 소속 정보, 특정 단어 포함 여부 등\n",
    "    * 레이블(타깃): 스팸 또는 햄    "
   ]
  },
  {
   "cell_type": "markdown",
   "metadata": {
    "slideshow": {
     "slide_type": ""
    }
   },
   "source": [
    "<div align=\"center\"><img src=\"images/ch01/homl01-05.png\" width=\"600\"/></div>"
   ]
  },
  {
   "cell_type": "markdown",
   "metadata": {
    "slideshow": {
     "slide_type": "slide"
    }
   },
   "source": [
    "### 회귀"
   ]
  },
  {
   "cell_type": "markdown",
   "metadata": {
    "slideshow": {
     "slide_type": ""
    }
   },
   "source": [
    "* 예제: 중고차 가격 예측\n",
    "    * 특성: 주행거리, 연식, 브랜드 등\n",
    "    * 타깃: 중고차 가격"
   ]
  },
  {
   "cell_type": "markdown",
   "metadata": {
    "slideshow": {
     "slide_type": ""
    }
   },
   "source": [
    "<div align=\"center\"><img src=\"images/ch01/homl01-06.png\" width=\"500\"/></div>"
   ]
  },
  {
   "cell_type": "markdown",
   "metadata": {
    "colab_type": "text",
    "id": "RvO06bXnEnSx",
    "slideshow": {
     "slide_type": "slide"
    }
   },
   "source": [
    "### 비지도 학습"
   ]
  },
  {
   "cell_type": "markdown",
   "metadata": {
    "colab_type": "text",
    "id": "RvO06bXnEnSx",
    "slideshow": {
     "slide_type": ""
    }
   },
   "source": [
    "* __레이블 없는 훈련 데이터__를 이용하여 시스템 스스로 학습"
   ]
  },
  {
   "cell_type": "markdown",
   "metadata": {
    "colab_type": "text",
    "id": "RvO06bXnEnSx",
    "slideshow": {
     "slide_type": ""
    }
   },
   "source": [
    "<div align=\"center\"><img src=\"images/ch01/homl01-07.png\" width=\"500\"/></div>"
   ]
  },
  {
   "cell_type": "markdown",
   "metadata": {
    "colab_type": "text",
    "id": "RvO06bXnEnSx",
    "slideshow": {
     "slide_type": "slide"
    }
   },
   "source": [
    "### 군집"
   ]
  },
  {
   "cell_type": "markdown",
   "metadata": {
    "colab_type": "text",
    "id": "RvO06bXnEnSx",
    "slideshow": {
     "slide_type": ""
    }
   },
   "source": [
    "* 데이터를 비슷한 특징을 가진 몇 개의 그룹으로 나누는 것\n",
    "\n",
    "* 예제: 블로그 방문자들을 그룹으로 묶기: 남성, 여성, 주말, 주중, 만화책, SF 등등"
   ]
  },
  {
   "cell_type": "markdown",
   "metadata": {
    "colab_type": "text",
    "id": "RvO06bXnEnSx",
    "slideshow": {
     "slide_type": ""
    }
   },
   "source": [
    "<div align=\"center\"><img src=\"images/ch01/homl01-08.png\" width=\"500\"/></div>"
   ]
  },
  {
   "cell_type": "markdown",
   "metadata": {
    "slideshow": {
     "slide_type": "slide"
    }
   },
   "source": [
    "### 이상치 탐지(Outlier detection)"
   ]
  },
  {
   "cell_type": "markdown",
   "metadata": {
    "slideshow": {
     "slide_type": ""
    }
   },
   "source": [
    "* 정상 샘플을 이용하여 훈련 후 입력 샘플의 정상여부 판단 후 이상치(outliers) 자동 제거\n",
    "\n",
    "* 예제: 부정거래 사용 감지, 제조 결함 잡아내기 등등"
   ]
  },
  {
   "cell_type": "markdown",
   "metadata": {
    "slideshow": {
     "slide_type": ""
    }
   },
   "source": [
    "<div align=\"center\"><img src=\"images/ch01/homl01-10.png\" width=\"550\"/></div>"
   ]
  },
  {
   "cell_type": "markdown",
   "metadata": {
    "slideshow": {
     "slide_type": "slide"
    }
   },
   "source": [
    "### 연관 규칙 학습"
   ]
  },
  {
   "cell_type": "markdown",
   "metadata": {
    "slideshow": {
     "slide_type": ""
    }
   },
   "source": [
    "- 데이터 특성 간의 흥미로운 관계 찾기\n",
    "- 전통적인 데이터 분석으로 다루기 어려운 다량의 데이터를 이용한 새로운 데이터 분석 활용법 제공"
   ]
  },
  {
   "cell_type": "markdown",
   "metadata": {
    "slideshow": {
     "slide_type": ""
    }
   },
   "source": [
    "<div align=\"center\"><img src=\"https://raw.githubusercontent.com/codingalzi/water-data/master/reservoirs/google_colab/%EC%8A%B9%EC%B4%8C%EB%B3%B4(%EB%B0%A9%EB%A5%98%EB%9F%89%EA%B3%BC%20%EC%88%98%EC%98%A8)/img/daily_mean_flow1.png\" width=\"600\"/></div>"
   ]
  },
  {
   "cell_type": "markdown",
   "metadata": {
    "colab_type": "text",
    "id": "_W-gOFP1Fc5V",
    "slideshow": {
     "slide_type": "slide"
    }
   },
   "source": [
    "### 준지도 학습"
   ]
  },
  {
   "cell_type": "markdown",
   "metadata": {
    "colab_type": "text",
    "id": "_W-gOFP1Fc5V",
    "slideshow": {
     "slide_type": ""
    }
   },
   "source": [
    "* 레이블이 적용된 적은 수의 샘플이 주어졌을 때 유횽함.\n",
    "\n",
    "* 구글 포토 호스팅: 가족 사진 몇 장에만 레이블 적용. 이후 모든 사진에서 가족사진 확인 가능."
   ]
  },
  {
   "cell_type": "markdown",
   "metadata": {
    "colab_type": "text",
    "id": "_W-gOFP1Fc5V",
    "slideshow": {
     "slide_type": ""
    }
   },
   "source": [
    "<div align=\"center\"><img src=\"images/ch01/homl01-11.png\" width=\"500\"/></div>"
   ]
  },
  {
   "cell_type": "markdown",
   "metadata": {
    "colab_type": "text",
    "id": "_W-gOFP1Fc5V",
    "slideshow": {
     "slide_type": "slide"
    }
   },
   "source": [
    "### 강화 학습"
   ]
  },
  {
   "cell_type": "markdown",
   "metadata": {
    "colab_type": "text",
    "id": "_W-gOFP1Fc5V",
    "slideshow": {
     "slide_type": ""
    }
   },
   "source": [
    "* 에이전트가 취한 행동에 대해 보상 또는 벌점을 주어 가장 큰 보상을 받는 방향으로 유도"
   ]
  },
  {
   "cell_type": "markdown",
   "metadata": {
    "colab_type": "text",
    "id": "_W-gOFP1Fc5V",
    "slideshow": {
     "slide_type": ""
    }
   },
   "source": [
    "<div align=\"center\"><img src=\"images/ch01/homl01-12.png\" width=\"450\"/></div>"
   ]
  },
  {
   "cell_type": "markdown",
   "metadata": {
    "slideshow": {
     "slide_type": "slide"
    }
   },
   "source": [
    "* 예제: 딥마인드(DeepMind)의 알파고(AlphaGo), 2016년"
   ]
  },
  {
   "cell_type": "markdown",
   "metadata": {
    "colab_type": "text",
    "id": "_W-gOFP1Fc5V",
    "slideshow": {
     "slide_type": ""
    }
   },
   "source": [
    "<div align=\"center\"><img src=\"images/ch01/alphago01.png\" width=\"600\"/></div>"
   ]
  },
  {
   "cell_type": "markdown",
   "metadata": {
    "slideshow": {
     "slide_type": "slide"
    }
   },
   "source": [
    "## 컴퓨터 비전"
   ]
  },
  {
   "cell_type": "markdown",
   "metadata": {
    "colab_type": "text",
    "id": "uWLIes9W-hTI",
    "slideshow": {
     "slide_type": "slide"
    }
   },
   "source": [
    "### MNIST 데이터셋"
   ]
  },
  {
   "cell_type": "markdown",
   "metadata": {
    "colab_type": "text",
    "id": "uWLIes9W-hTI",
    "slideshow": {
     "slide_type": ""
    }
   },
   "source": [
    "* 손으로 쓴 70,000개의 숫자 이미지로 구성된 데이터셋"
   ]
  },
  {
   "cell_type": "markdown",
   "metadata": {
    "slideshow": {
     "slide_type": ""
    }
   },
   "source": [
    "<div align=\"center\"><img src=\"images/ch03/homl03-01.png\" width=\"400\"/></div>"
   ]
  },
  {
   "cell_type": "markdown",
   "metadata": {
    "slideshow": {
     "slide_type": "slide"
    }
   },
   "source": [
    "* 3과 5의 오차행렬 그려보기\n",
    "    * 음성: 3으로 판정\n",
    "    * 양성: 5로 판정"
   ]
  },
  {
   "cell_type": "markdown",
   "metadata": {
    "slideshow": {
     "slide_type": ""
    }
   },
   "source": [
    "<div align=\"center\"><img src=\"https://raw.githubusercontent.com/codingalzi/handson-ml3/master/jupyter-book/imgs/ch03/homl03-10.png\" width=\"450\"/></div>"
   ]
  },
  {
   "cell_type": "markdown",
   "metadata": {
    "slideshow": {
     "slide_type": "slide"
    }
   },
   "source": [
    "### 합성곱 신경망(CNN)"
   ]
  },
  {
   "cell_type": "markdown",
   "metadata": {
    "slideshow": {
     "slide_type": ""
    }
   },
   "source": [
    "- 한 번 인식된 패턴은 다른 위치에서도 인식. 분류 정확도를 99%.\n",
    "\n",
    "<div align=\"center\"><img src=\"https://drek4537l1klr.cloudfront.net/chollet2/v-7/Figures/local_patterns.jpg\" width=\"400\"/></div>"
   ]
  },
  {
   "cell_type": "markdown",
   "metadata": {
    "slideshow": {
     "slide_type": "slide"
    }
   },
   "source": [
    "<div align=\"center\"><img src=\"https://drek4537l1klr.cloudfront.net/chollet2/v-7/Figures/ch01-mnist_representations.png\" width=\"800\"/></div>"
   ]
  },
  {
   "cell_type": "markdown",
   "metadata": {
    "slideshow": {
     "slide_type": "slide"
    }
   },
   "source": [
    "<div align=\"center\"><img src=\"https://drek4537l1klr.cloudfront.net/chollet2/v-7/Figures/visual_hierarchy_hires.png\" width=\"600\"/></div>"
   ]
  },
  {
   "cell_type": "markdown",
   "metadata": {
    "slideshow": {
     "slide_type": "slide"
    }
   },
   "source": [
    "### 2012년 이미지넷 경진대회"
   ]
  },
  {
   "cell_type": "markdown",
   "metadata": {
    "slideshow": {
     "slide_type": ""
    }
   },
   "source": [
    "- 2011년 최고 모델의 성능: 74% 정도의 top-5 정확도\n",
    "- 2012년 최고 모델의 성능: 84% 정도의 top-5 정확도\n",
    "\n",
    "<div align=\"center\"><img src=\"https://raw.githubusercontent.com/codingalzi/dlp2/master/jupyter-book/imgs/ch01-ilsvrc-1.png\" width=\"600\"/></div>"
   ]
  },
  {
   "cell_type": "markdown",
   "metadata": {
    "slideshow": {
     "slide_type": "slide"
    }
   },
   "source": [
    "### 컴퓨터 비전 활용"
   ]
  },
  {
   "cell_type": "markdown",
   "metadata": {
    "slideshow": {
     "slide_type": ""
    }
   },
   "source": [
    "<div align=\"center\"><img src=\"https://drek4537l1klr.cloudfront.net/chollet2/v-7/Figures/computer_vision_tasks.png\" width=\"650\"/></div>"
   ]
  },
  {
   "cell_type": "markdown",
   "metadata": {
    "slideshow": {
     "slide_type": "slide"
    }
   },
   "source": [
    "### 키포인트 탐지 / 자세 추정"
   ]
  },
  {
   "cell_type": "markdown",
   "metadata": {
    "slideshow": {
     "slide_type": ""
    }
   },
   "source": [
    "<div align=\"center\"><img src=\"https://github.com/Jeff-sjtu/HybrIK/raw/main/assets/hybrik.png\" width=\"700\"/></div>"
   ]
  },
  {
   "cell_type": "markdown",
   "metadata": {
    "slideshow": {
     "slide_type": "slide"
    }
   },
   "source": [
    "### YOLO: 실시간 객체 추적"
   ]
  },
  {
   "cell_type": "markdown",
   "metadata": {},
   "source": [
    "- 객체 추적: [YOLOv3](https://www.youtube.com/watch?v=MPU2HistivI&ab_channel=JosephRedmon)\n",
    "- 객체 추적: [YOLOv7 + SORT](https://www.youtube.com/watch?v=K_OGcfXwskc&ab_channel=TheCodingBug)"
   ]
  }
 ],
 "metadata": {
  "celltoolbar": "Slideshow",
  "kernelspec": {
   "display_name": "Python 3 (ipykernel)",
   "language": "python",
   "name": "python3"
  },
  "language_info": {
   "codemirror_mode": {
    "name": "ipython",
    "version": 3
   },
   "file_extension": ".py",
   "mimetype": "text/x-python",
   "name": "python",
   "nbconvert_exporter": "python",
   "pygments_lexer": "ipython3",
   "version": "3.9.12"
  }
 },
 "nbformat": 4,
 "nbformat_minor": 2
}
